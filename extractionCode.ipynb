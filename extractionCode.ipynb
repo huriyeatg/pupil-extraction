{
 "cells": [
  {
   "cell_type": "markdown",
   "id": "07f495e5",
   "metadata": {},
   "source": [
    "## Extract Pupil Points With DLC with HA trained model\n",
    "This funtion analyse the videos in raw-video-path and save csv file of extracted points into the same path. If it was h5 (extracted dataPoints) exist, it ignores them. \n",
    "\n",
    "**The trained model can be found:**  ~\\DeepLabCut-master\\pupilExtraction\\pupilExt-1photonSt-HA-2021-06-16\\dlc-models\\iteration-0\\pupilExt-1photonStJun16-trainset95shuffle1\\train \n",
    "    \n",
    "**PLEASE CHANGE PATHS ACCORDINGLY**"
   ]
  },
  {
   "cell_type": "code",
   "execution_count": 1,
   "id": "005b0375",
   "metadata": {},
   "outputs": [],
   "source": []
  },
  {
   "cell_type": "code",
   "execution_count": 2,
   "id": "821f98cc",
   "metadata": {},
   "outputs": [
    {
     "name": "stdout",
     "output_type": "stream",
     "text": [
      "['2022-04-12_22103_p-001.avi', '2022-04-12_22103_p-002.avi', '2022-04-12_22103_p-003.avi', '2022-04-12_22103_p-004.avi', '2022-04-12_22103_p-005.avi', '2022-04-12_22103_p-006.avi', '2022-04-12_22103_p-007.avi', '2022-04-12_22103_p-008.avi', '2022-04-12_22107_p-001.avi', '2022-04-12_22107_p-002.avi', '2022-04-12_22107_p-003.avi', '2022-04-12_22107_p-004.avi', '2022-04-12_22107_p-005.avi', '2022-04-12_22107_p-006.avi', '2022-04-12_22107_p-007.avi', '2022-04-12_22107_p-008.avi', '2022-04-12_22107_p-009.avi', '2022-04-12_22107_p-010.avi', '2022-04-12_22107_p-011.avi']\n"
     ]
    },
    {
     "data": {
      "text/plain": [
       "19"
      ]
     },
     "execution_count": 2,
     "metadata": {},
     "output_type": "execute_result"
    }
   ],
   "source": [
    "# Get all the .avi files in QNAP/Data folder\n",
    "import os\n",
    "from pathlib import Path\n",
    "\n",
    "input_path = r'Z:/Data'\n",
    "output_path = r'D:/DLC_output'\n",
    "\n",
    "# Get the folders to run DLC \n",
    "excludeDate = '2022-04-06'\n",
    "startsWithString = '202'\n",
    "searchTSeries  = ['.avi']\n",
    "formatType     = '.avi'\n",
    "    # get only data folders starts with date\n",
    "folderNames = [filename for filename in os.listdir(input_path) if filename.startswith(startsWithString)]\n",
    "    # exclude earlier date data\n",
    "folderNames = [filename for filename in folderNames if filename>excludeDate]\n",
    "    # get each folder & check if there is t folder\n",
    "fList = []\n",
    "for name in folderNames:\n",
    "    f = get_file_names_with_strings(os.path.join(input_path,name), searchTSeries)   \n",
    "    fList.append(f)\n",
    "\n",
    "fList = list(filter(None, fList))\n",
    "fList = [val for sublist in fList for val in sublist]\n",
    "print(fList)\n",
    "len(fList)"
   ]
  },
  {
   "cell_type": "code",
   "execution_count": 3,
   "id": "43e4a309",
   "metadata": {},
   "outputs": [
    {
     "name": "stderr",
     "output_type": "stream",
     "text": [
      "C:\\Users\\Huriye\\anaconda3\\envs\\DLC\\lib\\site-packages\\tensorflow\\python\\framework\\dtypes.py:526: FutureWarning: Passing (type, 1) or '1type' as a synonym of type is deprecated; in a future version of numpy, it will be understood as (type, (1,)) / '(1,)type'.\n",
      "  _np_qint8 = np.dtype([(\"qint8\", np.int8, 1)])\n",
      "C:\\Users\\Huriye\\anaconda3\\envs\\DLC\\lib\\site-packages\\tensorflow\\python\\framework\\dtypes.py:527: FutureWarning: Passing (type, 1) or '1type' as a synonym of type is deprecated; in a future version of numpy, it will be understood as (type, (1,)) / '(1,)type'.\n",
      "  _np_quint8 = np.dtype([(\"quint8\", np.uint8, 1)])\n",
      "C:\\Users\\Huriye\\anaconda3\\envs\\DLC\\lib\\site-packages\\tensorflow\\python\\framework\\dtypes.py:528: FutureWarning: Passing (type, 1) or '1type' as a synonym of type is deprecated; in a future version of numpy, it will be understood as (type, (1,)) / '(1,)type'.\n",
      "  _np_qint16 = np.dtype([(\"qint16\", np.int16, 1)])\n",
      "C:\\Users\\Huriye\\anaconda3\\envs\\DLC\\lib\\site-packages\\tensorflow\\python\\framework\\dtypes.py:529: FutureWarning: Passing (type, 1) or '1type' as a synonym of type is deprecated; in a future version of numpy, it will be understood as (type, (1,)) / '(1,)type'.\n",
      "  _np_quint16 = np.dtype([(\"quint16\", np.uint16, 1)])\n",
      "C:\\Users\\Huriye\\anaconda3\\envs\\DLC\\lib\\site-packages\\tensorflow\\python\\framework\\dtypes.py:530: FutureWarning: Passing (type, 1) or '1type' as a synonym of type is deprecated; in a future version of numpy, it will be understood as (type, (1,)) / '(1,)type'.\n",
      "  _np_qint32 = np.dtype([(\"qint32\", np.int32, 1)])\n",
      "C:\\Users\\Huriye\\anaconda3\\envs\\DLC\\lib\\site-packages\\tensorflow\\python\\framework\\dtypes.py:535: FutureWarning: Passing (type, 1) or '1type' as a synonym of type is deprecated; in a future version of numpy, it will be understood as (type, (1,)) / '(1,)type'.\n",
      "  np_resource = np.dtype([(\"resource\", np.ubyte, 1)])\n"
     ]
    },
    {
     "name": "stdout",
     "output_type": "stream",
     "text": [
      "C:\\Users\\Huriye\\Documents\\code\\DeepLabCut-master\\pupilExtraction\\Updated 5 Dot Training Model-Eren CAN-2021-11-21\\config.yaml\n"
     ]
    }
   ],
   "source": [
    "## Load deepLabCut\n",
    "import deeplabcut\n",
    "import glob\n",
    "\n",
    "configPath = \"C:\\\\Users\\\\Huriye\\\\Documents\\\\code\\\\DeepLabCut-master\\\\pupilExtraction\\\\Updated 5 Dot Training Model-Eren CAN-2021-11-21\\\\\"\n",
    "\n",
    "path_config_file = configPath + \"config.yaml\" # Enter the path of the config file that was just created from the above step (check the folder)\n",
    "\n",
    "print(path_config_file)"
   ]
  },
  {
   "cell_type": "code",
   "execution_count": null,
   "id": "ccf5da6e",
   "metadata": {},
   "outputs": [
    {
     "name": "stdout",
     "output_type": "stream",
     "text": [
      "Using snapshot-1030000 for model C:\\Users\\Huriye\\Documents\\code\\DeepLabCut-master\\pupilExtraction\\Updated 5 Dot Training Model-Eren CAN-2021-11-21\\dlc-models\\iteration-0\\Updated 5 Dot Training ModelNov21-trainset95shuffle1\n",
      "Initializing ResNet\n"
     ]
    },
    {
     "name": "stderr",
     "output_type": "stream",
     "text": [
      "\r\n",
      "  0%|                                                                                        | 0/24362 [00:00<?, ?it/s]"
     ]
    },
    {
     "name": "stdout",
     "output_type": "stream",
     "text": [
      "Analyzing all the videos in the directory...\n",
      "Starting to analyze %  D:\\DLC_output\\2022-04-08_22102_p-009.avi\n",
      "D:\\DLC_output  already exists!\n",
      "Loading  D:\\DLC_output\\2022-04-08_22102_p-009.avi\n",
      "Duration of video [s]:  812.07 , recorded with  30.0 fps!\n",
      "Overall # of frames:  24362  found with (before cropping) frame dimensions:  640 512\n",
      "Starting to extract posture\n"
     ]
    },
    {
     "name": "stderr",
     "output_type": "stream",
     "text": [
      "24543it [6:34:13,  1.04it/s]                                                                                           \n"
     ]
    },
    {
     "name": "stdout",
     "output_type": "stream",
     "text": [
      "Saving results in D:\\DLC_output...\n",
      "Saving csv poses!\n"
     ]
    },
    {
     "name": "stderr",
     "output_type": "stream",
     "text": [
      "\r\n",
      "  0%|                                                                                        | 0/24361 [00:00<?, ?it/s]"
     ]
    },
    {
     "name": "stdout",
     "output_type": "stream",
     "text": [
      "Starting to analyze %  D:\\DLC_output\\2022-04-08_22102_p-001.avi\n",
      "D:\\DLC_output  already exists!\n",
      "Loading  D:\\DLC_output\\2022-04-08_22102_p-001.avi\n",
      "Duration of video [s]:  812.03 , recorded with  30.0 fps!\n",
      "Overall # of frames:  24361  found with (before cropping) frame dimensions:  640 512\n",
      "Starting to extract posture\n"
     ]
    },
    {
     "name": "stderr",
     "output_type": "stream",
     "text": [
      "24543it [6:32:00,  1.04it/s]                                                                                           \n"
     ]
    },
    {
     "name": "stdout",
     "output_type": "stream",
     "text": [
      "Saving results in D:\\DLC_output...\n",
      "Saving csv poses!\n",
      "Starting to analyze %  D:\\DLC_output\\2022-04-08_22102_p-002.avi\n",
      "D:\\DLC_output  already exists!\n",
      "Loading  D:\\DLC_output\\2022-04-08_22102_p-002.avi\n"
     ]
    },
    {
     "name": "stderr",
     "output_type": "stream",
     "text": [
      "\r\n",
      "  0%|                                                                                        | 0/24362 [00:00<?, ?it/s]"
     ]
    },
    {
     "name": "stdout",
     "output_type": "stream",
     "text": [
      "Duration of video [s]:  812.07 , recorded with  30.0 fps!\n",
      "Overall # of frames:  24362  found with (before cropping) frame dimensions:  640 512\n",
      "Starting to extract posture\n"
     ]
    },
    {
     "name": "stderr",
     "output_type": "stream",
     "text": [
      " 22%|████████████████                                                         | 5346/24362 [1:21:24<5:02:01,  1.05it/s]"
     ]
    }
   ],
   "source": [
    "# get the list of videos\n",
    "for folder in fList:\n",
    "    folderDateName = (folder[0:10])\n",
    "   # print(folderDateName)\n",
    "    fpath     = os.path.join(input_path,str(folderDateName))\n",
    "    fpath     = fpath.replace(os.sep, '/')\n",
    "    fpath     = Path(fpath)\n",
    "   # print(fpath)\n",
    "    save_path  = os.path.join(output_path,folder)\n",
    "    save_path  = save_path.replace(os.sep, '/')\n",
    "   # print(save_path)\n",
    "\n",
    "videofile_path = ['D:\\DLC_output'] #Enter a folder OR a list of videos to analyze.\n",
    "\n",
    "deeplabcut.analyze_videos(path_config_file,videofile_path, videotype='.avi',save_as_csv=True)"
   ]
  },
  {
   "cell_type": "code",
   "execution_count": null,
   "id": "fc2edeed",
   "metadata": {},
   "outputs": [],
   "source": [
    "print('DLC extraction is completed')\n",
    "\n",
    "## DONE!!!!\n",
    "\n",
    "#jupytext --to py extractionCode.ipynb --opt comment_magics=false\n",
    "#mv extractionCode.py extractionCode.ipy"
   ]
  }
 ],
 "metadata": {
  "kernelspec": {
   "display_name": "Python 3",
   "language": "python",
   "name": "python3"
  },
  "language_info": {
   "codemirror_mode": {
    "name": "ipython",
    "version": 3
   },
   "file_extension": ".py",
   "mimetype": "text/x-python",
   "name": "python",
   "nbconvert_exporter": "python",
   "pygments_lexer": "ipython3",
   "version": "3.7.10"
  }
 },
 "nbformat": 4,
 "nbformat_minor": 5
}
