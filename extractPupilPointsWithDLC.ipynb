{
 "cells": [
  {
   "cell_type": "markdown",
   "id": "07f495e5",
   "metadata": {},
   "source": [
    "## Extract Pupil Points With DLC\n",
    "This funtion analyse the videos in raw-video-path and save csv file of extracted points into the same path. If it was h5 (extracted dataPoints) exist, it ignores them. \n",
    "\n",
    "**The trained model can be found:**  ~\\DeepLabCut-master\\pupilExtraction\\pupilExt-1photonSt-HA-2021-06-16\\dlc-models\\iteration-0\\pupilExt-1photonStJun16-trainset95shuffle1\\train \n",
    "    \n",
    "**PLEASE CHANGE PATHS ACCORDINGLY**"
   ]
  },
  {
   "cell_type": "code",
   "execution_count": 1,
   "id": "8f88ec60",
   "metadata": {},
   "outputs": [],
   "source": [
    "## Define paths\n",
    "\n",
    "rawVideoPath = \"D:\\CLAstPFC\\pupilVideos\"\n",
    "configPath = \"C:\\\\Users\\\\Huriye\\\\Documents\\\\code\\\\DeepLabCut-master\\\\pupilExtraction\\\\pupilExt-1photonSt-HA-2021-06-16\\\\\""
   ]
  },
  {
   "cell_type": "code",
   "execution_count": null,
   "id": "43e4a309",
   "metadata": {},
   "outputs": [],
   "source": [
    "## Gets all files from rawVideoPath & creates PupilPoints if not created already\n",
    "\n",
    "#import deeplabcut\n",
    "#import glob\n",
    "\n",
    "path_config_file = configPath + \"config.yaml\" # Enter the path of the config file that was just created from the above step (check the folder)\n",
    "\n",
    "# get the list of videos\n",
    "\n",
    "allVideos = glob.glob(rawVideoPath +\"\\*.avi\")\n",
    "\n",
    "for fname in allVideos:\n",
    "    if not glob.glob(fname[:-4]+\"*.h5\"):\n",
    "        deeplabcut.analyze_videos(path_config_file,fname, videotype='.avi',save_as_csv=True)"
   ]
  },
  {
   "cell_type": "code",
   "execution_count": null,
   "id": "ccf5da6e",
   "metadata": {},
   "outputs": [],
   "source": []
  }
 ],
 "metadata": {
  "kernelspec": {
   "display_name": "Python 3",
   "language": "python",
   "name": "python3"
  },
  "language_info": {
   "codemirror_mode": {
    "name": "ipython",
    "version": 3
   },
   "file_extension": ".py",
   "mimetype": "text/x-python",
   "name": "python",
   "nbconvert_exporter": "python",
   "pygments_lexer": "ipython3",
   "version": "3.7.10"
  }
 },
 "nbformat": 4,
 "nbformat_minor": 5
}
